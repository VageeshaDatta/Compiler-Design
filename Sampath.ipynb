{
  "nbformat": 4,
  "nbformat_minor": 0,
  "metadata": {
    "colab": {
      "name": "Sampath.ipynb",
      "provenance": [],
      "collapsed_sections": [],
      "toc_visible": true,
      "authorship_tag": "ABX9TyOPQwrNlclOeoCsg2m5tf9P",
      "include_colab_link": true
    },
    "kernelspec": {
      "name": "python3",
      "display_name": "Python 3"
    },
    "language_info": {
      "name": "python"
    },
    "accelerator": "GPU"
  },
  "cells": [
    {
      "cell_type": "markdown",
      "metadata": {
        "id": "view-in-github",
        "colab_type": "text"
      },
      "source": [
        "<a href=\"https://colab.research.google.com/github/VageeshaDatta/Deep-Learning/blob/master/Sampath.ipynb\" target=\"_parent\"><img src=\"https://colab.research.google.com/assets/colab-badge.svg\" alt=\"Open In Colab\"/></a>"
      ]
    },
    {
      "cell_type": "code",
      "metadata": {
        "id": "pLVmTaw3zhuK"
      },
      "source": [
        "from __future__ import print_function\n",
        "import keras\n",
        "from keras.datasets import cifar10\n",
        "from keras.preprocessing.image import ImageDataGenerator\n",
        "from keras.models import Sequential\n",
        "from keras.layers import Dense, Dropout, Activation\n",
        "from keras.layers import Conv2D, MaxPooling2D, GlobalMaxPooling2D\n",
        "from keras.utils import np_utils\n",
        "import tensorflow as tf"
      ],
      "execution_count": 2,
      "outputs": []
    },
    {
      "cell_type": "code",
      "metadata": {
        "id": "VFYqUfMUzoh-"
      },
      "source": [
        "batch_size = 32 \n",
        "num_classes = 10\n",
        "epochs = 100\n",
        "data_augmentation = True"
      ],
      "execution_count": 3,
      "outputs": []
    },
    {
      "cell_type": "code",
      "metadata": {
        "colab": {
          "base_uri": "https://localhost:8080/"
        },
        "id": "Y2tXe-bjzwIH",
        "outputId": "3f2db5c3-2792-4394-8cf2-fd9be80b8034"
      },
      "source": [
        "\n",
        "# The data, shuffled and split between train and test sets:\n",
        "(x_train, y_train), (x_test, y_test) = cifar10.load_data()\n",
        "print('x_train shape:', x_train.shape)\n",
        "print(x_train.shape[0], 'train samples')\n",
        "print(x_test.shape[0], 'test samples')\n",
        "\n",
        "# Convert class vectors to binary class matrices.\n",
        "y_train = np_utils.to_categorical(y_train, num_classes)\n",
        "y_test = np_utils.to_categorical(y_test, num_classes)"
      ],
      "execution_count": 5,
      "outputs": [
        {
          "output_type": "stream",
          "name": "stdout",
          "text": [
            "Downloading data from https://www.cs.toronto.edu/~kriz/cifar-10-python.tar.gz\n",
            "170500096/170498071 [==============================] - 11s 0us/step\n",
            "170508288/170498071 [==============================] - 11s 0us/step\n",
            "x_train shape: (50000, 32, 32, 3)\n",
            "50000 train samples\n",
            "10000 test samples\n"
          ]
        }
      ]
    },
    {
      "cell_type": "code",
      "metadata": {
        "colab": {
          "base_uri": "https://localhost:8080/"
        },
        "id": "Lm-ENNz1zyd8",
        "outputId": "c891ccb3-a12e-41c4-b666-dcdb86fa10f9"
      },
      "source": [
        "model = Sequential()\n",
        "\n",
        "model = Sequential()\n",
        "\n",
        "model.add(Conv2D(32, (3, 3), padding='same',\n",
        "                 input_shape=x_train.shape[1:]))\n",
        "model.add(Activation('relu'))\n",
        "\n",
        "model.add(Conv2D(48, (3, 3), padding='same',\n",
        "                 input_shape=x_train.shape[1:]))\n",
        "model.add(Activation('relu'))\n",
        "model.add(MaxPooling2D(pool_size=(2, 2)))\n",
        "model.add(Dropout(0.25))\n",
        "\n",
        "model.add(Conv2D(80, (3, 3), padding='same',\n",
        "                 input_shape=x_train.shape[1:]))\n",
        "model.add(Activation('relu'))\n",
        "model.add(MaxPooling2D(pool_size=(2, 2)))\n",
        "model.add(Dropout(0.25))\n",
        "\n",
        "model.add(Conv2D(128, (3, 3), padding='same',\n",
        "                 input_shape=x_train.shape[1:]))\n",
        "model.add(GlobalMaxPooling2D())\n",
        "model.add(Dropout(0.25))\n",
        "\n",
        "\n",
        "model.add(Dense(500))\n",
        "model.add(Activation('relu'))\n",
        "model.add(Dropout(0.25))\n",
        "model.add(Dense(num_classes))\n",
        "model.add(Activation('softmax'))\n",
        "\n",
        "# initiate RMSprop optimizer\n",
        "opt = tf.keras.optimizers.Adam(lr=0.0001)\n",
        "\n",
        "# Let's train the model using RMSprop\n",
        "model.compile(loss='categorical_crossentropy',\n",
        "              optimizer=opt,\n",
        "              metrics=['accuracy'])\n",
        "model.summary()"
      ],
      "execution_count": 6,
      "outputs": [
        {
          "output_type": "stream",
          "name": "stdout",
          "text": [
            "Model: \"sequential_3\"\n",
            "_________________________________________________________________\n",
            " Layer (type)                Output Shape              Param #   \n",
            "=================================================================\n",
            " conv2d (Conv2D)             (None, 32, 32, 32)        896       \n",
            "                                                                 \n",
            " activation (Activation)     (None, 32, 32, 32)        0         \n",
            "                                                                 \n",
            " conv2d_1 (Conv2D)           (None, 32, 32, 48)        13872     \n",
            "                                                                 \n",
            " activation_1 (Activation)   (None, 32, 32, 48)        0         \n",
            "                                                                 \n",
            " max_pooling2d (MaxPooling2D  (None, 16, 16, 48)       0         \n",
            " )                                                               \n",
            "                                                                 \n",
            " dropout (Dropout)           (None, 16, 16, 48)        0         \n",
            "                                                                 \n",
            " conv2d_2 (Conv2D)           (None, 16, 16, 80)        34640     \n",
            "                                                                 \n",
            " activation_2 (Activation)   (None, 16, 16, 80)        0         \n",
            "                                                                 \n",
            " max_pooling2d_1 (MaxPooling  (None, 8, 8, 80)         0         \n",
            " 2D)                                                             \n",
            "                                                                 \n",
            " dropout_1 (Dropout)         (None, 8, 8, 80)          0         \n",
            "                                                                 \n",
            " conv2d_3 (Conv2D)           (None, 8, 8, 128)         92288     \n",
            "                                                                 \n",
            " global_max_pooling2d (Globa  (None, 128)              0         \n",
            " lMaxPooling2D)                                                  \n",
            "                                                                 \n",
            " dropout_2 (Dropout)         (None, 128)               0         \n",
            "                                                                 \n",
            " dense (Dense)               (None, 500)               64500     \n",
            "                                                                 \n",
            " activation_3 (Activation)   (None, 500)               0         \n",
            "                                                                 \n",
            " dropout_3 (Dropout)         (None, 500)               0         \n",
            "                                                                 \n",
            " dense_1 (Dense)             (None, 10)                5010      \n",
            "                                                                 \n",
            " activation_4 (Activation)   (None, 10)                0         \n",
            "                                                                 \n",
            "=================================================================\n",
            "Total params: 211,206\n",
            "Trainable params: 211,206\n",
            "Non-trainable params: 0\n",
            "_________________________________________________________________\n"
          ]
        },
        {
          "output_type": "stream",
          "name": "stderr",
          "text": [
            "/usr/local/lib/python3.7/dist-packages/keras/optimizer_v2/adam.py:105: UserWarning: The `lr` argument is deprecated, use `learning_rate` instead.\n",
            "  super(Adam, self).__init__(name, **kwargs)\n"
          ]
        }
      ]
    },
    {
      "cell_type": "code",
      "metadata": {
        "id": "BKCtGeaj0MvB"
      },
      "source": [
        "x_train = x_train.astype('float32')\n",
        "x_test = x_test.astype('float32')\n",
        "x_train /= 255\n",
        "x_test /= 255\n",
        "tbCallBack = keras.callbacks.TensorBoard(log_dir='./Graph2', histogram_freq=0, write_graph=True, write_images=True)"
      ],
      "execution_count": 7,
      "outputs": []
    },
    {
      "cell_type": "code",
      "metadata": {
        "colab": {
          "base_uri": "https://localhost:8080/"
        },
        "id": "mZCWrh430gTa",
        "outputId": "a05d7766-907b-48c8-8b9c-696bc13977ec"
      },
      "source": [
        "if not data_augmentation:\n",
        "    print('Not using data augmentation.')\n",
        "    model.fit(x_train, y_train,\n",
        "              batch_size=batch_size,\n",
        "              epochs=epochs,\n",
        "              validation_data=(x_test, y_test),\n",
        "              shuffle=True, callbacks=[tbCallBack])\n",
        "else:\n",
        "    print('Using real-time data augmentation.')\n",
        "    # This will do preprocessing and realtime data augmentation:\n",
        "    '''\n",
        "    datagen = ImageDataGenerator(\n",
        "        featurewise_center=False,  # set input mean to 0 over the dataset\n",
        "        samplewise_center=False,  # set each sample mean to 0\n",
        "        featurewise_std_normalization=False,  # divide inputs by std of the dataset\n",
        "        samplewise_std_normalization=False,  # divide each input by its std\n",
        "        zca_whitening=False,  # apply ZCA whitening\n",
        "        rotation_range=0,  # randomly rotate images in the range (degrees, 0 to 180)\n",
        "        width_shift_range=0.1,  # randomly shift images horizontally (fraction of total width)\n",
        "        height_shift_range=0.1,  # randomly shift images vertically (fraction of total height)\n",
        "        horizontal_flip=True,  # randomly flip images\n",
        "        vertical_flip=False)  # randomly flip images\n",
        "    '''\n",
        "    datagen = ImageDataGenerator(\n",
        "        featurewise_center=False,  # set input mean to 0 over the dataset\n",
        "        samplewise_center=False,  # set each sample mean to 0\n",
        "        featurewise_std_normalization=False,  # divide inputs by std of the dataset\n",
        "        samplewise_std_normalization=False,  # divide each input by its std\n",
        "        zca_whitening=False,  # apply ZCA whitening\n",
        "        rotation_range=10,  # randomly rotate images in the range (degrees, 0 to 180)\n",
        "        width_shift_range=0.2,  # randomly shift images horizontally (fraction of total width)\n",
        "        height_shift_range=0.2,  # randomly shift images vertically (fraction of total height)\n",
        "        horizontal_flip=True,  # randomly flip images\n",
        "        vertical_flip=False)  # randomly flip images\n",
        "\n",
        "\n",
        "    # Compute quantities required for feature-wise normalization\n",
        "    # (std, mean, and principal components if ZCA whitening is applied).\n",
        "    datagen.fit(x_train)\n",
        "\n",
        "    # Fit the model on the batches generated by datagen.flow().\n",
        "    model.fit_generator(datagen.flow(x_train, y_train,\n",
        "                                     batch_size=batch_size),\n",
        "                        steps_per_epoch=x_train.shape[0] // batch_size,\n",
        "                        epochs=epochs,\n",
        "                        validation_data=(x_test, y_test), callbacks=[tbCallBack])"
      ],
      "execution_count": 9,
      "outputs": [
        {
          "output_type": "stream",
          "name": "stdout",
          "text": [
            "Using real-time data augmentation.\n"
          ]
        },
        {
          "output_type": "stream",
          "name": "stderr",
          "text": [
            "/usr/local/lib/python3.7/dist-packages/ipykernel_launcher.py:46: UserWarning: `Model.fit_generator` is deprecated and will be removed in a future version. Please use `Model.fit`, which supports generators.\n"
          ]
        },
        {
          "output_type": "stream",
          "name": "stdout",
          "text": [
            "Epoch 1/100\n",
            "1562/1562 [==============================] - 51s 31ms/step - loss: 2.0330 - accuracy: 0.2330 - val_loss: 1.7610 - val_accuracy: 0.3550\n",
            "Epoch 2/100\n",
            "1562/1562 [==============================] - 50s 32ms/step - loss: 1.7420 - accuracy: 0.3528 - val_loss: 1.5908 - val_accuracy: 0.4181\n",
            "Epoch 3/100\n",
            "1562/1562 [==============================] - 50s 32ms/step - loss: 1.6227 - accuracy: 0.4023 - val_loss: 1.4942 - val_accuracy: 0.4569\n",
            "Epoch 4/100\n",
            "1562/1562 [==============================] - 50s 32ms/step - loss: 1.5450 - accuracy: 0.4351 - val_loss: 1.3915 - val_accuracy: 0.4992\n",
            "Epoch 5/100\n",
            "1562/1562 [==============================] - 50s 32ms/step - loss: 1.4798 - accuracy: 0.4615 - val_loss: 1.3345 - val_accuracy: 0.5243\n",
            "Epoch 6/100\n",
            "1562/1562 [==============================] - 50s 32ms/step - loss: 1.4265 - accuracy: 0.4812 - val_loss: 1.3150 - val_accuracy: 0.5247\n",
            "Epoch 7/100\n",
            "1562/1562 [==============================] - 49s 31ms/step - loss: 1.3835 - accuracy: 0.4988 - val_loss: 1.2273 - val_accuracy: 0.5571\n",
            "Epoch 8/100\n",
            "1562/1562 [==============================] - 50s 32ms/step - loss: 1.3391 - accuracy: 0.5160 - val_loss: 1.3266 - val_accuracy: 0.5225\n",
            "Epoch 9/100\n",
            "1562/1562 [==============================] - 50s 32ms/step - loss: 1.3049 - accuracy: 0.5296 - val_loss: 1.1577 - val_accuracy: 0.5848\n",
            "Epoch 10/100\n",
            "1562/1562 [==============================] - 49s 32ms/step - loss: 1.2651 - accuracy: 0.5446 - val_loss: 1.1404 - val_accuracy: 0.5908\n",
            "Epoch 11/100\n",
            "1562/1562 [==============================] - 49s 31ms/step - loss: 1.2381 - accuracy: 0.5552 - val_loss: 1.1075 - val_accuracy: 0.6019\n",
            "Epoch 12/100\n",
            "1562/1562 [==============================] - 50s 32ms/step - loss: 1.2104 - accuracy: 0.5685 - val_loss: 1.0790 - val_accuracy: 0.6151\n",
            "Epoch 13/100\n",
            "1562/1562 [==============================] - 50s 32ms/step - loss: 1.1809 - accuracy: 0.5766 - val_loss: 1.0596 - val_accuracy: 0.6162\n",
            "Epoch 14/100\n",
            "1562/1562 [==============================] - 49s 31ms/step - loss: 1.1610 - accuracy: 0.5860 - val_loss: 1.0445 - val_accuracy: 0.6246\n",
            "Epoch 15/100\n",
            "1562/1562 [==============================] - 50s 32ms/step - loss: 1.1330 - accuracy: 0.5933 - val_loss: 1.0067 - val_accuracy: 0.6382\n",
            "Epoch 16/100\n",
            "1562/1562 [==============================] - 49s 32ms/step - loss: 1.1142 - accuracy: 0.6066 - val_loss: 0.9889 - val_accuracy: 0.6468\n",
            "Epoch 17/100\n",
            "1562/1562 [==============================] - 48s 31ms/step - loss: 1.0921 - accuracy: 0.6099 - val_loss: 0.9592 - val_accuracy: 0.6554\n",
            "Epoch 18/100\n",
            "1562/1562 [==============================] - 49s 31ms/step - loss: 1.0819 - accuracy: 0.6149 - val_loss: 0.9538 - val_accuracy: 0.6605\n",
            "Epoch 19/100\n",
            "1562/1562 [==============================] - 48s 31ms/step - loss: 1.0632 - accuracy: 0.6212 - val_loss: 0.9050 - val_accuracy: 0.6771\n",
            "Epoch 20/100\n",
            "1562/1562 [==============================] - 49s 31ms/step - loss: 1.0439 - accuracy: 0.6302 - val_loss: 0.9356 - val_accuracy: 0.6668\n",
            "Epoch 21/100\n",
            "1562/1562 [==============================] - 48s 31ms/step - loss: 1.0325 - accuracy: 0.6345 - val_loss: 0.9375 - val_accuracy: 0.6674\n",
            "Epoch 22/100\n",
            "1562/1562 [==============================] - 49s 31ms/step - loss: 1.0173 - accuracy: 0.6400 - val_loss: 0.8947 - val_accuracy: 0.6806\n",
            "Epoch 23/100\n",
            "1562/1562 [==============================] - 48s 31ms/step - loss: 1.0023 - accuracy: 0.6422 - val_loss: 0.8866 - val_accuracy: 0.6853\n",
            "Epoch 24/100\n",
            "1562/1562 [==============================] - 48s 31ms/step - loss: 0.9947 - accuracy: 0.6461 - val_loss: 0.9851 - val_accuracy: 0.6511\n",
            "Epoch 25/100\n",
            "1562/1562 [==============================] - 48s 31ms/step - loss: 0.9779 - accuracy: 0.6547 - val_loss: 0.8740 - val_accuracy: 0.6961\n",
            "Epoch 26/100\n",
            "1562/1562 [==============================] - 48s 31ms/step - loss: 0.9701 - accuracy: 0.6550 - val_loss: 0.8985 - val_accuracy: 0.6817\n",
            "Epoch 27/100\n",
            "1562/1562 [==============================] - 48s 31ms/step - loss: 0.9574 - accuracy: 0.6606 - val_loss: 0.8292 - val_accuracy: 0.7076\n",
            "Epoch 28/100\n",
            "1562/1562 [==============================] - 48s 31ms/step - loss: 0.9412 - accuracy: 0.6667 - val_loss: 0.8179 - val_accuracy: 0.7145\n",
            "Epoch 29/100\n",
            "1562/1562 [==============================] - 48s 31ms/step - loss: 0.9330 - accuracy: 0.6703 - val_loss: 0.8535 - val_accuracy: 0.6995\n",
            "Epoch 30/100\n",
            "1562/1562 [==============================] - 48s 31ms/step - loss: 0.9224 - accuracy: 0.6744 - val_loss: 0.8024 - val_accuracy: 0.7176\n",
            "Epoch 31/100\n",
            "1562/1562 [==============================] - 48s 31ms/step - loss: 0.9147 - accuracy: 0.6765 - val_loss: 0.8358 - val_accuracy: 0.7043\n",
            "Epoch 32/100\n",
            "1562/1562 [==============================] - 48s 31ms/step - loss: 0.9050 - accuracy: 0.6818 - val_loss: 0.7616 - val_accuracy: 0.7331\n",
            "Epoch 33/100\n",
            "1562/1562 [==============================] - 48s 31ms/step - loss: 0.8978 - accuracy: 0.6817 - val_loss: 0.7667 - val_accuracy: 0.7301\n",
            "Epoch 34/100\n",
            "1562/1562 [==============================] - 49s 31ms/step - loss: 0.8895 - accuracy: 0.6864 - val_loss: 0.8282 - val_accuracy: 0.7072\n",
            "Epoch 35/100\n",
            "1562/1562 [==============================] - 49s 31ms/step - loss: 0.8851 - accuracy: 0.6872 - val_loss: 0.7868 - val_accuracy: 0.7206\n",
            "Epoch 36/100\n",
            "1562/1562 [==============================] - 48s 31ms/step - loss: 0.8706 - accuracy: 0.6921 - val_loss: 0.7769 - val_accuracy: 0.7310\n",
            "Epoch 37/100\n",
            "1562/1562 [==============================] - 48s 31ms/step - loss: 0.8659 - accuracy: 0.6951 - val_loss: 0.7638 - val_accuracy: 0.7351\n",
            "Epoch 38/100\n",
            "1562/1562 [==============================] - 48s 31ms/step - loss: 0.8577 - accuracy: 0.6978 - val_loss: 0.7533 - val_accuracy: 0.7364\n",
            "Epoch 39/100\n",
            "1562/1562 [==============================] - 49s 31ms/step - loss: 0.8551 - accuracy: 0.6995 - val_loss: 0.7555 - val_accuracy: 0.7328\n",
            "Epoch 40/100\n",
            "1562/1562 [==============================] - 49s 31ms/step - loss: 0.8435 - accuracy: 0.7006 - val_loss: 0.7179 - val_accuracy: 0.7502\n",
            "Epoch 41/100\n",
            "1562/1562 [==============================] - 49s 32ms/step - loss: 0.8400 - accuracy: 0.7047 - val_loss: 0.7548 - val_accuracy: 0.7388\n",
            "Epoch 42/100\n",
            "1562/1562 [==============================] - 49s 31ms/step - loss: 0.8330 - accuracy: 0.7076 - val_loss: 0.7466 - val_accuracy: 0.7420\n",
            "Epoch 43/100\n",
            "1562/1562 [==============================] - 49s 31ms/step - loss: 0.8277 - accuracy: 0.7070 - val_loss: 0.7508 - val_accuracy: 0.7398\n",
            "Epoch 44/100\n",
            "1562/1562 [==============================] - 49s 31ms/step - loss: 0.8198 - accuracy: 0.7111 - val_loss: 0.7089 - val_accuracy: 0.7550\n",
            "Epoch 45/100\n",
            "1562/1562 [==============================] - 49s 32ms/step - loss: 0.8142 - accuracy: 0.7129 - val_loss: 0.7056 - val_accuracy: 0.7586\n",
            "Epoch 46/100\n",
            "1562/1562 [==============================] - 49s 32ms/step - loss: 0.8079 - accuracy: 0.7158 - val_loss: 0.7081 - val_accuracy: 0.7555\n",
            "Epoch 47/100\n",
            "1562/1562 [==============================] - 49s 31ms/step - loss: 0.8043 - accuracy: 0.7176 - val_loss: 0.7061 - val_accuracy: 0.7545\n",
            "Epoch 48/100\n",
            "1562/1562 [==============================] - 50s 32ms/step - loss: 0.7988 - accuracy: 0.7191 - val_loss: 0.7047 - val_accuracy: 0.7575\n",
            "Epoch 49/100\n",
            "1562/1562 [==============================] - 49s 31ms/step - loss: 0.7931 - accuracy: 0.7207 - val_loss: 0.7345 - val_accuracy: 0.7490\n",
            "Epoch 50/100\n",
            "1562/1562 [==============================] - 50s 32ms/step - loss: 0.7937 - accuracy: 0.7226 - val_loss: 0.7401 - val_accuracy: 0.7427\n",
            "Epoch 51/100\n",
            "1562/1562 [==============================] - 50s 32ms/step - loss: 0.7790 - accuracy: 0.7259 - val_loss: 0.6841 - val_accuracy: 0.7614\n",
            "Epoch 52/100\n",
            "1562/1562 [==============================] - 50s 32ms/step - loss: 0.7850 - accuracy: 0.7217 - val_loss: 0.6801 - val_accuracy: 0.7666\n",
            "Epoch 53/100\n",
            "1562/1562 [==============================] - 50s 32ms/step - loss: 0.7733 - accuracy: 0.7289 - val_loss: 0.6767 - val_accuracy: 0.7685\n",
            "Epoch 54/100\n",
            "1562/1562 [==============================] - 50s 32ms/step - loss: 0.7720 - accuracy: 0.7306 - val_loss: 0.6932 - val_accuracy: 0.7589\n",
            "Epoch 55/100\n",
            "1562/1562 [==============================] - 50s 32ms/step - loss: 0.7686 - accuracy: 0.7306 - val_loss: 0.6809 - val_accuracy: 0.7639\n",
            "Epoch 56/100\n",
            "1562/1562 [==============================] - 51s 33ms/step - loss: 0.7616 - accuracy: 0.7343 - val_loss: 0.6712 - val_accuracy: 0.7666\n",
            "Epoch 57/100\n",
            "1562/1562 [==============================] - 50s 32ms/step - loss: 0.7626 - accuracy: 0.7324 - val_loss: 0.6857 - val_accuracy: 0.7604\n",
            "Epoch 58/100\n",
            "1562/1562 [==============================] - 50s 32ms/step - loss: 0.7546 - accuracy: 0.7356 - val_loss: 0.6544 - val_accuracy: 0.7706\n",
            "Epoch 59/100\n",
            "1562/1562 [==============================] - 51s 32ms/step - loss: 0.7523 - accuracy: 0.7381 - val_loss: 0.6492 - val_accuracy: 0.7758\n",
            "Epoch 60/100\n",
            "1562/1562 [==============================] - 49s 32ms/step - loss: 0.7488 - accuracy: 0.7373 - val_loss: 0.6342 - val_accuracy: 0.7813\n",
            "Epoch 61/100\n",
            "1562/1562 [==============================] - 50s 32ms/step - loss: 0.7434 - accuracy: 0.7415 - val_loss: 0.7292 - val_accuracy: 0.7524\n",
            "Epoch 62/100\n",
            "1562/1562 [==============================] - 50s 32ms/step - loss: 0.7404 - accuracy: 0.7426 - val_loss: 0.6476 - val_accuracy: 0.7756\n",
            "Epoch 63/100\n",
            "1562/1562 [==============================] - 49s 32ms/step - loss: 0.7374 - accuracy: 0.7389 - val_loss: 0.6153 - val_accuracy: 0.7876\n",
            "Epoch 64/100\n",
            "1562/1562 [==============================] - 51s 32ms/step - loss: 0.7361 - accuracy: 0.7427 - val_loss: 0.6627 - val_accuracy: 0.7726\n",
            "Epoch 65/100\n",
            "1562/1562 [==============================] - 50s 32ms/step - loss: 0.7323 - accuracy: 0.7433 - val_loss: 0.6067 - val_accuracy: 0.7893\n",
            "Epoch 66/100\n",
            "1562/1562 [==============================] - 50s 32ms/step - loss: 0.7266 - accuracy: 0.7489 - val_loss: 0.6106 - val_accuracy: 0.7919\n",
            "Epoch 67/100\n",
            "1562/1562 [==============================] - 51s 32ms/step - loss: 0.7262 - accuracy: 0.7465 - val_loss: 0.6219 - val_accuracy: 0.7856\n",
            "Epoch 68/100\n",
            "1562/1562 [==============================] - 50s 32ms/step - loss: 0.7249 - accuracy: 0.7468 - val_loss: 0.6030 - val_accuracy: 0.7917\n",
            "Epoch 69/100\n",
            "1562/1562 [==============================] - 50s 32ms/step - loss: 0.7185 - accuracy: 0.7489 - val_loss: 0.6608 - val_accuracy: 0.7700\n",
            "Epoch 70/100\n",
            "1562/1562 [==============================] - 51s 33ms/step - loss: 0.7212 - accuracy: 0.7502 - val_loss: 0.6252 - val_accuracy: 0.7841\n",
            "Epoch 71/100\n",
            "1562/1562 [==============================] - 51s 33ms/step - loss: 0.7114 - accuracy: 0.7514 - val_loss: 0.6325 - val_accuracy: 0.7823\n",
            "Epoch 72/100\n",
            "1562/1562 [==============================] - 51s 33ms/step - loss: 0.7152 - accuracy: 0.7506 - val_loss: 0.6164 - val_accuracy: 0.7853\n",
            "Epoch 73/100\n",
            "1562/1562 [==============================] - 51s 33ms/step - loss: 0.7071 - accuracy: 0.7532 - val_loss: 0.5877 - val_accuracy: 0.7989\n",
            "Epoch 74/100\n",
            "1562/1562 [==============================] - 51s 33ms/step - loss: 0.7026 - accuracy: 0.7552 - val_loss: 0.6657 - val_accuracy: 0.7719\n",
            "Epoch 75/100\n",
            "1562/1562 [==============================] - 51s 33ms/step - loss: 0.7078 - accuracy: 0.7519 - val_loss: 0.5870 - val_accuracy: 0.7997\n",
            "Epoch 76/100\n",
            "1562/1562 [==============================] - 51s 33ms/step - loss: 0.6970 - accuracy: 0.7561 - val_loss: 0.5826 - val_accuracy: 0.7984\n",
            "Epoch 77/100\n",
            "1562/1562 [==============================] - 51s 33ms/step - loss: 0.6975 - accuracy: 0.7544 - val_loss: 0.6098 - val_accuracy: 0.7885\n",
            "Epoch 78/100\n",
            "1562/1562 [==============================] - 50s 32ms/step - loss: 0.6982 - accuracy: 0.7541 - val_loss: 0.5683 - val_accuracy: 0.8047\n",
            "Epoch 79/100\n",
            "1562/1562 [==============================] - 50s 32ms/step - loss: 0.6951 - accuracy: 0.7567 - val_loss: 0.6197 - val_accuracy: 0.7865\n",
            "Epoch 80/100\n",
            "1562/1562 [==============================] - 51s 33ms/step - loss: 0.6950 - accuracy: 0.7572 - val_loss: 0.6283 - val_accuracy: 0.7833\n",
            "Epoch 81/100\n",
            "1562/1562 [==============================] - 51s 33ms/step - loss: 0.6875 - accuracy: 0.7588 - val_loss: 0.6043 - val_accuracy: 0.7910\n",
            "Epoch 82/100\n",
            "1562/1562 [==============================] - 51s 33ms/step - loss: 0.6864 - accuracy: 0.7602 - val_loss: 0.5922 - val_accuracy: 0.7955\n",
            "Epoch 83/100\n",
            "1562/1562 [==============================] - 51s 33ms/step - loss: 0.6839 - accuracy: 0.7617 - val_loss: 0.5730 - val_accuracy: 0.8023\n",
            "Epoch 84/100\n",
            "1562/1562 [==============================] - 50s 32ms/step - loss: 0.6816 - accuracy: 0.7616 - val_loss: 0.5951 - val_accuracy: 0.7943\n",
            "Epoch 85/100\n",
            "1562/1562 [==============================] - 51s 33ms/step - loss: 0.6795 - accuracy: 0.7628 - val_loss: 0.5605 - val_accuracy: 0.8074\n",
            "Epoch 86/100\n",
            "1562/1562 [==============================] - 50s 32ms/step - loss: 0.6783 - accuracy: 0.7653 - val_loss: 0.5836 - val_accuracy: 0.8000\n",
            "Epoch 87/100\n",
            "1562/1562 [==============================] - 50s 32ms/step - loss: 0.6745 - accuracy: 0.7643 - val_loss: 0.6051 - val_accuracy: 0.7904\n",
            "Epoch 88/100\n",
            "1562/1562 [==============================] - 50s 32ms/step - loss: 0.6691 - accuracy: 0.7653 - val_loss: 0.5974 - val_accuracy: 0.7958\n",
            "Epoch 89/100\n",
            "1562/1562 [==============================] - 51s 33ms/step - loss: 0.6649 - accuracy: 0.7686 - val_loss: 0.5748 - val_accuracy: 0.8027\n",
            "Epoch 90/100\n",
            "1562/1562 [==============================] - 51s 33ms/step - loss: 0.6722 - accuracy: 0.7667 - val_loss: 0.5686 - val_accuracy: 0.8020\n",
            "Epoch 91/100\n",
            "1562/1562 [==============================] - 51s 32ms/step - loss: 0.6649 - accuracy: 0.7678 - val_loss: 0.5957 - val_accuracy: 0.7959\n",
            "Epoch 92/100\n",
            "1562/1562 [==============================] - 52s 33ms/step - loss: 0.6678 - accuracy: 0.7670 - val_loss: 0.5727 - val_accuracy: 0.8035\n",
            "Epoch 93/100\n",
            "1562/1562 [==============================] - 50s 32ms/step - loss: 0.6674 - accuracy: 0.7654 - val_loss: 0.5885 - val_accuracy: 0.7997\n",
            "Epoch 94/100\n",
            "1562/1562 [==============================] - 50s 32ms/step - loss: 0.6603 - accuracy: 0.7678 - val_loss: 0.5747 - val_accuracy: 0.8037\n",
            "Epoch 95/100\n",
            "1562/1562 [==============================] - 50s 32ms/step - loss: 0.6651 - accuracy: 0.7690 - val_loss: 0.5919 - val_accuracy: 0.7989\n",
            "Epoch 96/100\n",
            "1562/1562 [==============================] - 51s 33ms/step - loss: 0.6599 - accuracy: 0.7717 - val_loss: 0.5746 - val_accuracy: 0.8027\n",
            "Epoch 97/100\n",
            "1562/1562 [==============================] - 51s 33ms/step - loss: 0.6629 - accuracy: 0.7673 - val_loss: 0.5695 - val_accuracy: 0.8045\n",
            "Epoch 98/100\n",
            "1562/1562 [==============================] - 50s 32ms/step - loss: 0.6581 - accuracy: 0.7699 - val_loss: 0.6352 - val_accuracy: 0.7851\n",
            "Epoch 99/100\n",
            "1562/1562 [==============================] - 50s 32ms/step - loss: 0.6547 - accuracy: 0.7716 - val_loss: 0.6010 - val_accuracy: 0.7932\n",
            "Epoch 100/100\n",
            "1562/1562 [==============================] - 51s 33ms/step - loss: 0.6524 - accuracy: 0.7729 - val_loss: 0.5636 - val_accuracy: 0.8066\n"
          ]
        }
      ]
    },
    {
      "cell_type": "code",
      "metadata": {
        "colab": {
          "base_uri": "https://localhost:8080/"
        },
        "id": "HRaQdn5yp4Zm",
        "outputId": "a9407e2f-2f9c-4f5b-c568-b6d035c80056"
      },
      "source": [
        "import math\n",
        "scores=model.evaluate(x_test,y_test,verbose=1)\n",
        "print(\"Test Loss \",\"{:.2f}\".format(scores[0]*100))\n",
        "print(\"Test Accuracy\",\"{:.2f}\".format(scores[1]*100))"
      ],
      "execution_count": 16,
      "outputs": [
        {
          "output_type": "stream",
          "name": "stdout",
          "text": [
            "313/313 [==============================] - 2s 6ms/step - loss: 0.5636 - accuracy: 0.8066\n",
            "Test Loss  56.36\n",
            "Test Accuracy 80.66\n"
          ]
        }
      ]
    },
    {
      "cell_type": "code",
      "metadata": {
        "colab": {
          "resources": {
            "http://localhost:8080/nbextensions/google.colab/files.js": {
              "data": "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",
              "ok": true,
              "headers": [
                [
                  "content-type",
                  "application/javascript"
                ]
              ],
              "status": 200,
              "status_text": ""
            }
          },
          "base_uri": "https://localhost:8080/",
          "height": 72
        },
        "id": "OeBhrbF1p57x",
        "outputId": "4ed5c60e-61be-4a42-ca86-1d41b9c14b8a"
      },
      "source": [
        "from google.colab import files\n",
        "uploaded = files.upload()"
      ],
      "execution_count": 17,
      "outputs": [
        {
          "output_type": "display_data",
          "data": {
            "text/html": [
              "\n",
              "     <input type=\"file\" id=\"files-dbc0a2cf-35fe-4cdc-8f60-e25b14db47f2\" name=\"files[]\" multiple disabled\n",
              "        style=\"border:none\" />\n",
              "     <output id=\"result-dbc0a2cf-35fe-4cdc-8f60-e25b14db47f2\">\n",
              "      Upload widget is only available when the cell has been executed in the\n",
              "      current browser session. Please rerun this cell to enable.\n",
              "      </output>\n",
              "      <script src=\"/nbextensions/google.colab/files.js\"></script> "
            ],
            "text/plain": [
              "<IPython.core.display.HTML object>"
            ]
          },
          "metadata": {}
        },
        {
          "output_type": "stream",
          "name": "stdout",
          "text": [
            "Saving plane.jpeg to plane.jpeg\n"
          ]
        }
      ]
    },
    {
      "cell_type": "code",
      "metadata": {
        "id": "VvW9uC0DNv6L"
      },
      "source": [
        ""
      ],
      "execution_count": null,
      "outputs": []
    }
  ]
}